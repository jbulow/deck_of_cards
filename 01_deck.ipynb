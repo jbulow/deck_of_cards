{
 "cells": [
  {
   "cell_type": "code",
   "execution_count": null,
   "id": "4851b321-844d-4bac-9589-07b4b500aac9",
   "metadata": {},
   "outputs": [],
   "source": [
    "# default_exp deck\n",
    "from nbdev import *"
   ]
  },
  {
   "cell_type": "markdown",
   "id": "c13143b9-5b9e-4b82-9ef1-dbe4a7fe43ea",
   "metadata": {},
   "source": [
    "# Deck\n",
    "> Playing Cards"
   ]
  },
  {
   "cell_type": "code",
   "execution_count": null,
   "id": "c373c2a0-a6f0-4685-ac92-3281d3abc6e5",
   "metadata": {},
   "outputs": [],
   "source": [
    "#export\n",
    "from deck_of_cards.card import Card"
   ]
  },
  {
   "cell_type": "code",
   "execution_count": null,
   "id": "36221625-0613-467f-bf2e-6ab5c78e1839",
   "metadata": {},
   "outputs": [],
   "source": [
    "#export\n",
    "class Deck:\n",
    "    \"\"\"Represents a deck of cards.\n",
    "    Attributes:\n",
    "      cards: list of Card objects.\n",
    "    \"\"\"\n",
    "    \n",
    "    def __init__(self):\n",
    "        \"\"\"Initializes the Deck with 52 cards.\n",
    "        \"\"\"\n",
    "        self.cards = []\n",
    "        for suit in range(4):\n",
    "            for rank in range(1, 14):\n",
    "                card = Card(suit, rank)\n",
    "                self.cards.append(card)\n",
    "\n",
    "    def __str__(self):\n",
    "        \"\"\"Returns a string representation of the deck.\n",
    "        \"\"\"\n",
    "        res = []\n",
    "        for card in self.cards:\n",
    "            res.append(str(card))\n",
    "        return '\\n'.join(res)\n",
    "\n",
    "    def __repr__(self):\n",
    "        return self.__str()\n",
    "    \n",
    "    def add_card(self, card):\n",
    "        \"\"\"Adds a card to the deck.\n",
    "        card: Card\n",
    "        \"\"\"\n",
    "        self.cards.append(card)\n",
    "\n",
    "    def remove_card(self, card):\n",
    "        \"\"\"Removes a card from the deck or raises exception if it is not there.\n",
    "        \n",
    "        card: Card\n",
    "        \"\"\"\n",
    "        self.cards.remove(card)\n",
    "\n",
    "    def pop_card(self, i=-1):\n",
    "        \"\"\"Removes and returns a card from the deck.\n",
    "        i: index of the card to pop; by default, pops the last card.\n",
    "        \"\"\"\n",
    "        return self.cards.pop(i)\n",
    "\n",
    "    def shuffle(self):\n",
    "        \"\"\"Shuffles the cards in this deck.\"\"\"\n",
    "        random.shuffle(self.cards)\n",
    "\n",
    "    def sort(self):\n",
    "        \"\"\"Sorts the cards in ascending order.\"\"\"\n",
    "        self.cards.sort()\n",
    "\n",
    "    def move_cards(self, hand, num):\n",
    "        \"\"\"Moves the given number of cards from the deck into the Hand.\n",
    "        hand: destination Hand object\n",
    "        num: integer number of cards to move\n",
    "        \"\"\"\n",
    "        for i in range(num):\n",
    "            hand.add_card(self.pop_card())"
   ]
  },
  {
   "cell_type": "markdown",
   "id": "6e88c010-471b-4e41-aee2-977b3fe62352",
   "metadata": {},
   "source": [
    "A Deck of cards is a collection of Card objects:"
   ]
  },
  {
   "cell_type": "code",
   "execution_count": null,
   "id": "0c6e7e68-4fed-4ba6-86ec-ffdfa1f2a26c",
   "metadata": {},
   "outputs": [],
   "source": [
    "deck = Deck()\n",
    "assert isinstance(deck.pop_card(), Card)"
   ]
  },
  {
   "cell_type": "code",
   "execution_count": null,
   "id": "3d66900c-2f4c-44a8-93a9-7aa53b194619",
   "metadata": {},
   "outputs": [
    {
     "data": {
      "text/markdown": [
       "<h4 id=\"Deck.remove_card\" class=\"doc_header\"><code>Deck.remove_card</code><a href=\"__main__.py#L34\" class=\"source_link\" style=\"float:right\">[source]</a></h4>\n",
       "\n",
       "> <code>Deck.remove_card</code>(**`card`**)\n",
       "\n",
       "Removes a card from the deck or raises exception if it is not there.\n",
       "\n",
       "card: Card"
      ],
      "text/plain": [
       "<IPython.core.display.Markdown object>"
      ]
     },
     "metadata": {},
     "output_type": "display_data"
    }
   ],
   "source": [
    "show_doc(Deck.remove_card)"
   ]
  },
  {
   "cell_type": "markdown",
   "id": "b8ae85cf-f23b-4462-b044-439e51e51589",
   "metadata": {},
   "source": [
    "If we remove a card from the Deck we can verify that it no longer exists:"
   ]
  },
  {
   "cell_type": "code",
   "execution_count": null,
   "id": "d2debf49-f8d2-4e81-994a-b2c8b36068db",
   "metadata": {},
   "outputs": [],
   "source": [
    "card23 = Card(2, 3)\n",
    "deck.remove_card(card23)\n",
    "\n",
    "assert card23 not in deck.cards"
   ]
  },
  {
   "cell_type": "markdown",
   "id": "f7f030ec-325f-4a9f-beea-c351dfe62316",
   "metadata": {},
   "source": [
    "However, another card that we haven't removed, such as the `10 of hearts` will be in the Deck of cards because we haven't removed it:"
   ]
  },
  {
   "cell_type": "code",
   "execution_count": null,
   "id": "1bba532c-51e8-4b32-bfeb-77baaf216750",
   "metadata": {},
   "outputs": [
    {
     "data": {
      "text/plain": [
       "10 of Hearts"
      ]
     },
     "execution_count": null,
     "metadata": {},
     "output_type": "execute_result"
    }
   ],
   "source": [
    "c = Card(2, 10)\n",
    "assert c in deck.cards\n",
    "c\n"
   ]
  },
  {
   "cell_type": "code",
   "execution_count": null,
   "id": "187bdda6-030d-4f58-9287-c7cd408f1584",
   "metadata": {},
   "outputs": [],
   "source": []
  }
 ],
 "metadata": {
  "kernelspec": {
   "display_name": "Python 3",
   "language": "python",
   "name": "python3"
  }
 },
 "nbformat": 4,
 "nbformat_minor": 5
}
